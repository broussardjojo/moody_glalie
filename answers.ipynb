{
 "cells": [
  {
   "cell_type": "markdown",
   "source": [
    "1. Build an API with the following specifications:\n",
    "\t1. Inputs:\n",
    "\t    1. Start and end time\n",
    "        1. Settlement location\n",
    "\t1. Outputs:\n",
    "\t    1. Hourly Project Settlement as calculated based on the formula below:\n",
    "\t            1. Settlement<sub>i</sub> = Price<sub>i</sub> * Generation<sub>i</sub>\n",
    "        1. Average monthly value for Settlement, Price and Generation"
   ],
   "metadata": {
    "collapsed": false
   }
  },
  {
   "cell_type": "markdown",
   "source": [
    "## Clarifications and notes of assumptions\n",
    "- Data cleaning has been performed in `etl.ipynb`, and a complete table of the Ercot historical tables has been created and been compressed into `data/power_prices_data.gzip`. This was done to reduce some of the storage space and performance costs of multiple excel files with multiple worksheets each - I would be unable to compress all source data into something that could be sent through gmail otherwise. See `etl.ipynb' for transformations and their assumptions.\n",
    "- In the interests of time, I haven't added input validation. This should be added to make sure APIDataset inputs have all required fields, that the API inputs are of the correct type, etc.\n",
    "- Data is loaded from files, and some small transformation happens in the `Q1APIDataset`, where times are converted to datetime objects\n",
    "- A time period does not include its endtime - we would check for values in `[starttime, endtime)`\n",
    "- \"Average monthly value\" includes year - January 2010 is not in the same month as January 2011"
   ],
   "metadata": {
    "collapsed": false
   }
  },
  {
   "cell_type": "code",
   "execution_count": 1,
   "outputs": [],
   "source": [
    "import pandas as pd\n",
    "from dataclasses import dataclass\n",
    "from abc import ABC, abstractmethod\n",
    "from datetime import datetime\n",
    "\n",
    "@dataclass(init=False)\n",
    "class Q1APIDataset:\n",
    "\tdata: pd.DataFrame\n",
    "\n",
    "\tdef __init__(self, power_prices: pd.DataFrame, generation_data: pd.DataFrame):\n",
    "\t\t\"\"\"\n",
    "\t\tInitializes a Q1APIDataset object. This constructor assumes the input data follows the schema of the sample information provided.\n",
    "\n",
    "\t\t:param power_prices: a pd.DataFrame containing information about power prices\n",
    "\t\t:param generation_data: a pd.DataFrame containing the modeled generation over time.\n",
    "\t\t\"\"\"\n",
    "\t\tgeneration_data['datetime'] = pd.to_datetime(generation_data['time'])\n",
    "\t\tgeneration_data = generation_data[['datetime', 'generation']]\n",
    "\n",
    "\t\tpower_prices['datetime'] = pd.to_datetime(power_prices['Delivery Date'].astype(str) + \" \" + power_prices['Delivery Hour'].astype(int).astype(str) + \":00:00\")\n",
    "\n",
    "\t\tself.data = generation_data.merge(power_prices, left_on=\"datetime\", right_on=\"datetime\")\n",
    "\n",
    "@dataclass\n",
    "class Q1API(ABC):\n",
    "\tdataset: Q1APIDataset\n",
    "\n",
    "\t@abstractmethod\n",
    "\tdef hourly_project_settlement(self, start_time: datetime, end_time: datetime, settlement_location: str):\n",
    "\t\t...\n",
    "\n",
    "\t@abstractmethod\n",
    "\tdef average_monthly_values(self, start_time: datetime, end_time: datetime, settlement_location: str):\n",
    "\t\t...\n",
    "\n",
    "class Q1APIImplementation(Q1API):\n",
    "\tdef filter(self, start_time: datetime, end_time: datetime, settlement_location: str) -> pd.DataFrame:\n",
    "\t\tresult = self.dataset.data.loc[(self.dataset.data['Settlement Point Name'] == settlement_location) & (self.dataset.data['datetime'] >= start_time) & (self.dataset.data['datetime'] < end_time)]\n",
    "\t\treturn result\n",
    "\n",
    "\tdef hourly_project_settlement(self, start_time: datetime, end_time: datetime, settlement_location: str) -> pd.Series:\n",
    "\t\tresult = self.filter(start_time, end_time, settlement_location)\n",
    "\t\tresult['Hourly Project Settlement'] = result['Settlement Point Price'] * result['generation']\n",
    "\t\treturn result['Hourly Project Settlement']\n",
    "\n",
    "\tdef average_monthly_values(self, start_time: datetime, end_time: datetime, settlement_location: str) -> pd.DataFrame:\n",
    "\t\tresult = self.filter(start_time, end_time, settlement_location)\n",
    "\t\t# TODO: This is duplicated unnecessary filtering\n",
    "\t\tresult['settlement'] = self.hourly_project_settlement(start_time, end_time, settlement_location)\n",
    "\t\tresult['month'] = result['datetime'].dt.month\n",
    "\t\tresult['year'] = result['datetime'].dt.year\n",
    "\t\tresult = result[['month', 'year', 'settlement', 'Settlement Point Price', 'generation']]\n",
    "\t\treturn result.groupby(['year', 'month']).mean()"
   ],
   "metadata": {
    "collapsed": false
   }
  },
  {
   "cell_type": "markdown",
   "source": [
    "2. Submit your code including any files and instructions necessary to run the API locally. A\n",
    "good package will include:\n",
    "a. Unit tests\n",
    "b. Smoke tests\n",
    "c. Data validation steps\n",
    "d. Container image\n"
   ],
   "metadata": {
    "collapsed": false
   }
  },
  {
   "cell_type": "markdown",
   "source": [
    "With respect to the 2 hour time estimate, I'm not sure that I would comfortably be able to create extensive unit tests and a container image, but barring that I'll leave information about how I would do either of those:\n",
    "- Unit Tests:\n",
    "\t- Using a framework such as `pytest`\n",
    "\t- Create some sample fixtures of easy to verify data\n",
    "\t- Immediately thought of test cases:\n",
    "\t    - When start_time > end_time, either an error should be thrown or nothing should be returned (depending on desired behavior)\n",
    "\t    \t- Same with a time period that does not overlap with any of our data\n",
    "\t    - Check results when only a single set of entries / multiple sets of entries would fall in the given date range\n",
    "\t    - Check results when a valid / invalid settlement location is provided\n",
    "\t    - Mocking\n",
    "- Data validation\n",
    "\t- Some data validation was already performed in `etl.ipynb` and `eda.ipynb`, but more could potentially be added in `Q1APIDataset`; without a data dictionary, I can only posit some of what invalid data might look like\n",
    "\t- Assertions of data dependencies in `Q1APIDataset` and what fields / what types they should hold\n",
    "\t- Verify methods throw expected errors when given arguments of incorrect types\n",
    "\t    - Check at runtime with `pydantic`, check statically with `mypy`, or manually raise errors dependent on data type\n",
    "- Container image\n",
    "    - What exactly this would look like would depend on what the API was going to be used for\n",
    "    - Create a `Dockerfile` that can mount required data and install required dependencies\n",
    "\n",
    "Below is a smoke test of the API - if no errors are thrown, then it at least passes the smoke test!"
   ],
   "metadata": {
    "collapsed": false
   }
  },
  {
   "cell_type": "code",
   "execution_count": 2,
   "outputs": [],
   "source": [
    "power_prices = pd.read_parquet(\"data/power_prices_data.gzip\")\n",
    "modeled_generation = pd.read_csv(\"data/windGenTS.csv\")\n",
    "\n",
    "api_data = Q1APIDataset(power_prices, modeled_generation)\n",
    "concrete_api = Q1APIImplementation(api_data)"
   ],
   "metadata": {
    "collapsed": false
   }
  },
  {
   "cell_type": "code",
   "execution_count": 3,
   "outputs": [],
   "source": [
    "sample_start_time = datetime(2015, 1, 1)\n",
    "sample_end_time = datetime.now()\n",
    "sample_location = \"LZ_LCRA\""
   ],
   "metadata": {
    "collapsed": false
   }
  },
  {
   "cell_type": "code",
   "execution_count": 4,
   "outputs": [
    {
     "name": "stdout",
     "output_type": "stream",
     "text": [
      "2805530     97.651433\n",
      "2805531     97.651433\n",
      "2805532     96.028071\n",
      "2805533     96.028071\n",
      "2805534     93.738715\n",
      "2805535     93.738715\n",
      "2805536     92.989472\n",
      "2805537     92.989472\n",
      "2805618    385.764110\n",
      "2805619    385.764110\n",
      "Name: Hourly Project Settlement, dtype: float64\n"
     ]
    },
    {
     "name": "stderr",
     "output_type": "stream",
     "text": [
      "C:\\Users\\Jojo Broussard\\AppData\\Local\\Temp\\ipykernel_24776\\1557384366.py:43: SettingWithCopyWarning: \n",
      "A value is trying to be set on a copy of a slice from a DataFrame.\n",
      "Try using .loc[row_indexer,col_indexer] = value instead\n",
      "\n",
      "See the caveats in the documentation: https://pandas.pydata.org/pandas-docs/stable/user_guide/indexing.html#returning-a-view-versus-a-copy\n",
      "  result['Hourly Project Settlement'] = result['Settlement Point Price'] * result['generation']\n"
     ]
    }
   ],
   "source": [
    "print(concrete_api.hourly_project_settlement(sample_start_time, sample_end_time, sample_location).head(10))"
   ],
   "metadata": {
    "collapsed": false
   }
  },
  {
   "cell_type": "code",
   "execution_count": 5,
   "outputs": [
    {
     "name": "stdout",
     "output_type": "stream",
     "text": [
      "             settlement  Settlement Point Price  generation\n",
      "year month                                                 \n",
      "2015 1      5327.487571               23.739558  234.104173\n",
      "     2      5069.170200               26.423211  237.761953\n",
      "     3      4351.015451               26.993703  196.737995\n",
      "     4      6183.941508               24.357790  265.052536\n",
      "     5      6690.066537               27.296729  258.029831\n",
      "     6      4922.772071               23.728266  224.062475\n",
      "     7      4860.777521               26.896361  223.128266\n",
      "     8      4562.457494               33.056400  181.654074\n",
      "     9      4200.139572               22.968366  209.157713\n",
      "     10     4363.782281               20.200531  223.097618\n"
     ]
    },
    {
     "name": "stderr",
     "output_type": "stream",
     "text": [
      "C:\\Users\\Jojo Broussard\\AppData\\Local\\Temp\\ipykernel_24776\\1557384366.py:43: SettingWithCopyWarning: \n",
      "A value is trying to be set on a copy of a slice from a DataFrame.\n",
      "Try using .loc[row_indexer,col_indexer] = value instead\n",
      "\n",
      "See the caveats in the documentation: https://pandas.pydata.org/pandas-docs/stable/user_guide/indexing.html#returning-a-view-versus-a-copy\n",
      "  result['Hourly Project Settlement'] = result['Settlement Point Price'] * result['generation']\n",
      "C:\\Users\\Jojo Broussard\\AppData\\Local\\Temp\\ipykernel_24776\\1557384366.py:49: SettingWithCopyWarning: \n",
      "A value is trying to be set on a copy of a slice from a DataFrame.\n",
      "Try using .loc[row_indexer,col_indexer] = value instead\n",
      "\n",
      "See the caveats in the documentation: https://pandas.pydata.org/pandas-docs/stable/user_guide/indexing.html#returning-a-view-versus-a-copy\n",
      "  result['settlement'] = self.hourly_project_settlement(start_time, end_time, settlement_location)\n",
      "C:\\Users\\Jojo Broussard\\AppData\\Local\\Temp\\ipykernel_24776\\1557384366.py:50: SettingWithCopyWarning: \n",
      "A value is trying to be set on a copy of a slice from a DataFrame.\n",
      "Try using .loc[row_indexer,col_indexer] = value instead\n",
      "\n",
      "See the caveats in the documentation: https://pandas.pydata.org/pandas-docs/stable/user_guide/indexing.html#returning-a-view-versus-a-copy\n",
      "  result['month'] = result['datetime'].dt.month\n",
      "C:\\Users\\Jojo Broussard\\AppData\\Local\\Temp\\ipykernel_24776\\1557384366.py:51: SettingWithCopyWarning: \n",
      "A value is trying to be set on a copy of a slice from a DataFrame.\n",
      "Try using .loc[row_indexer,col_indexer] = value instead\n",
      "\n",
      "See the caveats in the documentation: https://pandas.pydata.org/pandas-docs/stable/user_guide/indexing.html#returning-a-view-versus-a-copy\n",
      "  result['year'] = result['datetime'].dt.year\n"
     ]
    }
   ],
   "source": [
    "print(concrete_api.average_monthly_values(sample_start_time, sample_end_time, sample_location).head(10))"
   ],
   "metadata": {
    "collapsed": false
   }
  },
  {
   "cell_type": "markdown",
   "source": [
    "3. How would you deploy this API? What technologies would you use? What criteria would\n",
    "you take into consideration?"
   ],
   "metadata": {
    "collapsed": false
   }
  },
  {
   "cell_type": "markdown",
   "source": [
    "It depends on a lot of things, particularly the environment it's being deployed in and the goals of the API.\n",
    "\n",
    "If the API was going to be used among many people and it isn't reasonable to have each of them have an entire copy of the data, it could be hosted as a RESTful API server, where individuals can query the server which would return the response. The problem is that this requires a connection and centralizes responsibility to the server host.\n",
    "\n",
    "If we didn't care about including the data with the functionality (for example, if we were working with a standardized data schema that others may have), the methods could be deployed as a package which could be installed by individuals who could hook it up to their own data in some manner. Package management and development is always a little tricky, and we'd want to containerize a standard testing suite in addition to the API."
   ],
   "metadata": {
    "collapsed": false
   }
  },
  {
   "cell_type": "code",
   "execution_count": 6,
   "outputs": [
    {
     "data": {
      "text/plain": "Q1APIDataset(data=                   datetime  generation Delivery Date  Delivery Hour   \n0       2010-12-01 00:00:00  221.023675    12/01/2010            0.0  \\\n1       2010-12-01 00:00:00  221.023675    12/01/2010            0.0   \n2       2010-12-01 00:00:00  221.023675    12/01/2010            0.0   \n3       2010-12-01 00:00:00  221.023675    12/01/2010            0.0   \n4       2010-12-01 00:00:00  221.023675    12/01/2010            0.0   \n...                     ...         ...           ...            ...   \n8302057 2021-12-31 23:00:00  283.767398    12/31/2021           23.0   \n8302058 2021-12-31 23:00:00  283.767398    12/31/2021           23.0   \n8302059 2021-12-31 23:00:00  283.767398    12/31/2021           23.0   \n8302060 2021-12-31 23:00:00  283.767398    12/31/2021           23.0   \n8302061 2021-12-31 23:00:00  283.767398    12/31/2021           23.0   \n\n         Delivery Interval Repeated Hour Flag Settlement Point Name   \n0                      1.0                  N             HB_BUSAVG  \\\n1                      2.0                  N             HB_BUSAVG   \n2                      3.0                  N             HB_BUSAVG   \n3                      4.0                  N             HB_BUSAVG   \n4                      1.0                  N            HB_HOUSTON   \n...                    ...                ...                   ...   \n8302057                2.0                  N               LZ_WEST   \n8302058                3.0                  N               LZ_WEST   \n8302059                3.0                  N               LZ_WEST   \n8302060                4.0                  N               LZ_WEST   \n8302061                4.0                  N               LZ_WEST   \n\n        Settlement Point Type  Settlement Point Price  \n0                          SH                   16.48  \n1                          SH                   16.12  \n2                          SH                   13.88  \n3                          SH                   13.22  \n4                          HU                   18.22  \n...                       ...                     ...  \n8302057                  LZEW                   71.28  \n8302058                    LZ                   81.02  \n8302059                  LZEW                   81.03  \n8302060                    LZ                   57.57  \n8302061                  LZEW                   57.57  \n\n[8302062 rows x 9 columns])"
     },
     "execution_count": 6,
     "metadata": {},
     "output_type": "execute_result"
    }
   ],
   "source": [
    "concrete_api.dataset"
   ],
   "metadata": {
    "collapsed": false
   }
  }
 ],
 "metadata": {
  "kernelspec": {
   "display_name": "Python 3",
   "language": "python",
   "name": "python3"
  },
  "language_info": {
   "codemirror_mode": {
    "name": "ipython",
    "version": 2
   },
   "file_extension": ".py",
   "mimetype": "text/x-python",
   "name": "python",
   "nbconvert_exporter": "python",
   "pygments_lexer": "ipython2",
   "version": "2.7.6"
  }
 },
 "nbformat": 4,
 "nbformat_minor": 0
}
