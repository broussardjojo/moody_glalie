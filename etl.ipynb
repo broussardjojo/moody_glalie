{
 "cells": [
  {
   "cell_type": "code",
   "execution_count": 1,
   "outputs": [
    {
     "name": "stdout",
     "output_type": "stream",
     "text": [
      "Requirement already satisfied: pandas in c:\\users\\jojo broussard\\pycharmprojects\\resurety-homework\\venv\\lib\\site-packages (2.0.0)\n",
      "Requirement already satisfied: python-dateutil>=2.8.2 in c:\\users\\jojo broussard\\pycharmprojects\\resurety-homework\\venv\\lib\\site-packages (from pandas) (2.8.2)\n",
      "Requirement already satisfied: pytz>=2020.1 in c:\\users\\jojo broussard\\pycharmprojects\\resurety-homework\\venv\\lib\\site-packages (from pandas) (2023.3)\n",
      "Requirement already satisfied: tzdata>=2022.1 in c:\\users\\jojo broussard\\pycharmprojects\\resurety-homework\\venv\\lib\\site-packages (from pandas) (2023.3)\n",
      "Requirement already satisfied: numpy>=1.20.3 in c:\\users\\jojo broussard\\pycharmprojects\\resurety-homework\\venv\\lib\\site-packages (from pandas) (1.24.2)\n",
      "Requirement already satisfied: six>=1.5 in c:\\users\\jojo broussard\\pycharmprojects\\resurety-homework\\venv\\lib\\site-packages (from python-dateutil>=2.8.2->pandas) (1.16.0)\n",
      "Requirement already satisfied: fastparquet in c:\\users\\jojo broussard\\pycharmprojects\\resurety-homework\\venv\\lib\\site-packages (2023.2.0)\n",
      "Requirement already satisfied: pandas>=1.5.0 in c:\\users\\jojo broussard\\pycharmprojects\\resurety-homework\\venv\\lib\\site-packages (from fastparquet) (2.0.0)\n",
      "Requirement already satisfied: numpy>=1.20.3 in c:\\users\\jojo broussard\\pycharmprojects\\resurety-homework\\venv\\lib\\site-packages (from fastparquet) (1.24.2)\n",
      "Requirement already satisfied: cramjam>=2.3 in c:\\users\\jojo broussard\\pycharmprojects\\resurety-homework\\venv\\lib\\site-packages (from fastparquet) (2.6.2)\n",
      "Requirement already satisfied: fsspec in c:\\users\\jojo broussard\\pycharmprojects\\resurety-homework\\venv\\lib\\site-packages (from fastparquet) (2023.4.0)\n",
      "Requirement already satisfied: packaging in c:\\users\\jojo broussard\\pycharmprojects\\resurety-homework\\venv\\lib\\site-packages (from fastparquet) (23.1)\n",
      "Requirement already satisfied: python-dateutil>=2.8.2 in c:\\users\\jojo broussard\\pycharmprojects\\resurety-homework\\venv\\lib\\site-packages (from pandas>=1.5.0->fastparquet) (2.8.2)\n",
      "Requirement already satisfied: pytz>=2020.1 in c:\\users\\jojo broussard\\pycharmprojects\\resurety-homework\\venv\\lib\\site-packages (from pandas>=1.5.0->fastparquet) (2023.3)\n",
      "Requirement already satisfied: tzdata>=2022.1 in c:\\users\\jojo broussard\\pycharmprojects\\resurety-homework\\venv\\lib\\site-packages (from pandas>=1.5.0->fastparquet) (2023.3)\n",
      "Requirement already satisfied: six>=1.5 in c:\\users\\jojo broussard\\pycharmprojects\\resurety-homework\\venv\\lib\\site-packages (from python-dateutil>=2.8.2->pandas>=1.5.0->fastparquet) (1.16.0)\n",
      "Requirement already satisfied: openpyxl in c:\\users\\jojo broussard\\pycharmprojects\\resurety-homework\\venv\\lib\\site-packages (3.1.2)\n",
      "Requirement already satisfied: et-xmlfile in c:\\users\\jojo broussard\\pycharmprojects\\resurety-homework\\venv\\lib\\site-packages (from openpyxl) (1.1.0)\n"
     ]
    }
   ],
   "source": [
    "!pip install pandas\n",
    "!pip install fastparquet\n",
    "!pip install openpyxl"
   ],
   "metadata": {
    "collapsed": false
   }
  },
  {
   "cell_type": "code",
   "execution_count": 2,
   "metadata": {
    "collapsed": true
   },
   "outputs": [],
   "source": [
    "# Imports\n",
    "import pandas as pd\n",
    "import pathlib"
   ]
  },
  {
   "cell_type": "code",
   "execution_count": 3,
   "outputs": [],
   "source": [
    "# Load data from files to dataframes\n",
    "# All files were saved with their default name from provided emails / source sites in the \"data\" directory.\n",
    "data_path = pathlib.Path.cwd() / \"data\"\n",
    "\n",
    "# Provided modeled generation\n",
    "modeled_generation_df = pd.read_csv(data_path / \"windGenTS.csv\")\n",
    "# This one's a doozy, but it's concatenating all the tables from all the worksheets in all the different power price files\n",
    "power_prices_data_unflat = [pd.read_excel(pathname, sheet_name=None) for pathname in data_path.glob(\"rpt.*\")]"
   ],
   "metadata": {
    "collapsed": false
   }
  },
  {
   "cell_type": "code",
   "execution_count": 4,
   "outputs": [],
   "source": [
    "# at this point power_prices_data_unflat is a List[Dict[str, pd.DataFrame]], and since all tables share the same schema, we want to consolidate them into a single table\n",
    "power_prices_data = pd.concat([value for subdict in power_prices_data_unflat for value in subdict.values()], ignore_index=True)"
   ],
   "metadata": {
    "collapsed": false
   }
  },
  {
   "cell_type": "code",
   "execution_count": 5,
   "outputs": [],
   "source": [
    "# Data cleaning\n",
    "for column in [\"Delivery Hour\", \"Delivery Interval\"]:\n",
    "\tpower_prices_data[column] = pd.to_numeric(power_prices_data[column], downcast=\"integer\")\n",
    "\n",
    "# Hey, there's a 24 o'clock in the power prices dataset! I THINK this means midnight, so I'm going to change this to 0 because that's how time works.\n",
    "power_prices_data.loc[power_prices_data['Delivery Hour'] == 24, 'Delivery Hour'] = 0\n",
    "power_prices_data = power_prices_data.dropna()"
   ],
   "metadata": {
    "collapsed": false
   }
  },
  {
   "cell_type": "code",
   "execution_count": 6,
   "outputs": [],
   "source": [
    "power_prices_data.to_parquet(data_path / \"power_prices_data.gzip\", index=False, compression='gzip')"
   ],
   "metadata": {
    "collapsed": false
   }
  }
 ],
 "metadata": {
  "kernelspec": {
   "display_name": "Python 3",
   "language": "python",
   "name": "python3"
  },
  "language_info": {
   "codemirror_mode": {
    "name": "ipython",
    "version": 2
   },
   "file_extension": ".py",
   "mimetype": "text/x-python",
   "name": "python",
   "nbconvert_exporter": "python",
   "pygments_lexer": "ipython2",
   "version": "2.7.6"
  }
 },
 "nbformat": 4,
 "nbformat_minor": 0
}
